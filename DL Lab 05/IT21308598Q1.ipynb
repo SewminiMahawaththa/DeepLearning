{
  "nbformat": 4,
  "nbformat_minor": 0,
  "metadata": {
    "colab": {
      "provenance": []
    },
    "kernelspec": {
      "name": "python3",
      "display_name": "Python 3"
    },
    "language_info": {
      "name": "python"
    }
  },
  "cells": [
    {
      "cell_type": "markdown",
      "source": [
        "# **Task 1 - Implement a Simple RNN to Predict the Next Value in a Small Sequence of Numbers**\n",
        "\n",
        "***Read the following descriptions and instructions***\n",
        "\n",
        "In time-series analysis, predicting future values based on past observations is a fundamental task. Recurrent Neural Networks (RNNs) are particularly well-suited for this type of problem due to their ability to maintain a memory of previous inputs through their recurrent connections.\n",
        "\n",
        "In this task, you will work with a synthetic dataset that represents a simple sine wave. The sine wave is a periodic function and serves as a good example to understand how RNNs can capture patterns and make predictions.\n",
        "\n",
        "A **sine wave** is a fundamental waveform that is widely used in various fields, including signal processing, physics, and time-series analysis. It is characterized by its smooth, periodic oscillations, making it an ideal example for understanding time-series prediction tasks.![11.jpg](data:image/jpeg;base64,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)"
      ],
      "metadata": {
        "id": "cgEuqA--9s-A"
      }
    },
    {
      "cell_type": "code",
      "execution_count": null,
      "metadata": {
        "id": "V6BtPqU13d76"
      },
      "outputs": [],
      "source": [
        "import numpy as np\n",
        "import tensorflow as tf\n",
        "from tensorflow.keras.models import Sequential\n",
        "from tensorflow.keras.layers import SimpleRNN, Dense\n",
        "from sklearn.preprocessing import MinMaxScaler\n",
        "import matplotlib.pyplot as plt"
      ]
    },
    {
      "cell_type": "markdown",
      "source": [
        "The generate_sine_wave function generates a synthetic sine wave dataset, which is often used in time-series prediction tasks, particularly for training models like RNNs and LSTMs.\n",
        "\n",
        "\n",
        "**seq_length=100**: This parameter is intended to specify the length of the sequence that you want to generate\n",
        "\n",
        "**num_samples=1000**:This parameter determines the number of data points (samples) to generate for the sine wave."
      ],
      "metadata": {
        "id": "nUa_cweR-K02"
      }
    },
    {
      "cell_type": "code",
      "source": [
        "# 1. Generate a Synthetic Sine Wave Dataset\n",
        "def generate_sine_wave(seq_length=100, num_samples=1000):\n",
        "    x = np.linspace(0, 50, num_samples)\n",
        "    y = np.sin(x)\n",
        "    return y\n"
      ],
      "metadata": {
        "id": "vOQ6vo_I7u7w"
      },
      "execution_count": null,
      "outputs": []
    },
    {
      "cell_type": "markdown",
      "source": [
        "The create_dataset function prepares the sine wave data for use in an RNN by converting the continuous data into sequences that the RNN can learn from. The time_step parameter in the create_dataset function represents the number of previous time points (or observations) that are used as input to predict the next time point in a sequence."
      ],
      "metadata": {
        "id": "met--MGJ-wQA"
      }
    },
    {
      "cell_type": "code",
      "source": [
        "# 2. Prepare the Dataset for RNN\n",
        "def create_dataset(data, time_step=10):\n",
        "    X, y = [], []\n",
        "    for i in range(len(data) - time_step - 1):\n",
        "        X.append(data[i:(i + time_step)])\n",
        "        y.append(data[i + time_step])\n",
        "    return np.array(X), np.array(y)"
      ],
      "metadata": {
        "id": "uaG2dnUV7xrn"
      },
      "execution_count": null,
      "outputs": []
    },
    {
      "cell_type": "markdown",
      "source": [
        "To prepare the data for modeling, it is important to normalize it so that all values fall within a specific range, typically between 0 and 1. This step improves the performance and convergence of neural network models.\n",
        "\n",
        "The MinMaxScaler from sklearn.preprocessing is used for this purpose. It scales the data such that the minimum value of the data becomes 0 and the maximum value becomes 1.\n",
        "\n",
        "The sine wave data is reshaped into a 2D array (-1, 1) to fit the scaler, as it expects a 2D input. After scaling, the data is reshaped back into its original 1D form.\n"
      ],
      "metadata": {
        "id": "5kX3cDh9_CPJ"
      }
    },
    {
      "cell_type": "code",
      "source": [
        "# Generate and Normalize the Data\n",
        "data = generate_sine_wave()\n",
        "scaler = MinMaxScaler(feature_range=(0, 1))\n",
        "data = scaler.fit_transform(data.reshape(-1, 1)).reshape(-1)"
      ],
      "metadata": {
        "id": "pLtujZIg70Wf"
      },
      "execution_count": null,
      "outputs": []
    },
    {
      "cell_type": "code",
      "source": [
        "# Create the Dataset\n",
        "time_step = 10  # Time steps for RNN input\n",
        "X, y = create_dataset(data, time_step)"
      ],
      "metadata": {
        "id": "m7ms_i_z78uV"
      },
      "execution_count": null,
      "outputs": []
    },
    {
      "cell_type": "code",
      "source": [
        "# Reshape for RNN input [samples, time steps, features]\n",
        "X = X.reshape(X.shape[0], X.shape[1], 1)\n"
      ],
      "metadata": {
        "id": "J_SIkBre7_tL"
      },
      "execution_count": null,
      "outputs": []
    },
    {
      "cell_type": "markdown",
      "source": [
        "This division of data helps in evaluating the model’s performance by training it on a substantial portion of the data and testing its predictions on unseen data."
      ],
      "metadata": {
        "id": "8P8esxRv_zPi"
      }
    },
    {
      "cell_type": "code",
      "source": [
        "# Split the Data into Training and Testing Sets (80% train, 20% test)\n",
        "train_size = int(len(X) * 0.8)\n",
        "X_train, X_test = X[:train_size], X[train_size:]\n",
        "y_train, y_test = y[:train_size], y[train_size:]\n"
      ],
      "metadata": {
        "id": "UEmo_a-v8CeW"
      },
      "execution_count": null,
      "outputs": []
    },
    {
      "cell_type": "markdown",
      "source": [
        "***Modify the units parameter in the SimpleRNN layer to see how the number of hidden units affects the model's ability to learn the sequence.***\n",
        "\n",
        "\n",
        "**optimizer='adam':** Uses the Adam optimizer, which is a popular choice for training deep learning models due to its adaptive learning rate.\n",
        "\n",
        "\n",
        "**loss='mean_squared_error':** Sets the loss function to mean squared error (MSE), which is commonly used for regression tasks to measure the average squared difference between predicted and actual values."
      ],
      "metadata": {
        "id": "8BUfwyQa__wP"
      }
    },
    {
      "cell_type": "code",
      "source": [
        "# 3. Define the RNN Model\n",
        "model = Sequential()\n",
        "model.add(SimpleRNN(units=100, return_sequences=False, input_shape=(time_step, 1)))  # <-- Tune 'units'\n",
        "model.add(Dense(1))\n",
        "model.compile(optimizer='adam', loss='mean_squared_error')"
      ],
      "metadata": {
        "colab": {
          "base_uri": "https://localhost:8080/"
        },
        "id": "wLjltqVU8Fmo",
        "outputId": "67264588-945e-4b1e-daf9-7f2783f0e20e"
      },
      "execution_count": null,
      "outputs": [
        {
          "output_type": "stream",
          "name": "stderr",
          "text": [
            "/usr/local/lib/python3.10/dist-packages/keras/src/layers/rnn/rnn.py:204: UserWarning: Do not pass an `input_shape`/`input_dim` argument to a layer. When using Sequential models, prefer using an `Input(shape)` object as the first layer in the model instead.\n",
            "  super().__init__(**kwargs)\n"
          ]
        }
      ]
    },
    {
      "cell_type": "markdown",
      "source": [
        "***Adjust the epochs and batch_size during the training phase to optimize the model's learning process and performance.***\n",
        "\n",
        "an\n",
        "\n",
        "**epochs=20:** Specifies the number of times the entire training dataset will pass through the model.\n",
        "\n",
        "\n",
        "**batch_size=32:** Determines the number of samples per gradient update.\n",
        "\n",
        "**verbose=1:** Provides detailed output during training, including the progress of each epoch and loss values."
      ],
      "metadata": {
        "id": "S0yZXIVoBQ4u"
      }
    },
    {
      "cell_type": "code",
      "source": [
        "# 4. Train the Model\n",
        "model.fit(X_train, y_train, epochs=200, batch_size=16, verbose=1)  # <-- Experiment with 'epochs' and 'batch_size'"
      ],
      "metadata": {
        "colab": {
          "base_uri": "https://localhost:8080/"
        },
        "id": "j_KLW0TU8JIE",
        "outputId": "298c138d-6be5-40b8-81bb-55c209414538"
      },
      "execution_count": null,
      "outputs": [
        {
          "output_type": "stream",
          "name": "stdout",
          "text": [
            "Epoch 1/200\n",
            "\u001b[1m50/50\u001b[0m \u001b[32m━━━━━━━━━━━━━━━━━━━━\u001b[0m\u001b[37m\u001b[0m \u001b[1m2s\u001b[0m 3ms/step - loss: 0.0673\n",
            "Epoch 2/200\n",
            "\u001b[1m50/50\u001b[0m \u001b[32m━━━━━━━━━━━━━━━━━━━━\u001b[0m\u001b[37m\u001b[0m \u001b[1m0s\u001b[0m 4ms/step - loss: 6.4937e-04\n",
            "Epoch 3/200\n",
            "\u001b[1m50/50\u001b[0m \u001b[32m━━━━━━━━━━━━━━━━━━━━\u001b[0m\u001b[37m\u001b[0m \u001b[1m0s\u001b[0m 3ms/step - loss: 1.5790e-04\n",
            "Epoch 4/200\n",
            "\u001b[1m50/50\u001b[0m \u001b[32m━━━━━━━━━━━━━━━━━━━━\u001b[0m\u001b[37m\u001b[0m \u001b[1m0s\u001b[0m 4ms/step - loss: 9.4958e-05\n",
            "Epoch 5/200\n",
            "\u001b[1m50/50\u001b[0m \u001b[32m━━━━━━━━━━━━━━━━━━━━\u001b[0m\u001b[37m\u001b[0m \u001b[1m0s\u001b[0m 4ms/step - loss: 1.1226e-04\n",
            "Epoch 6/200\n",
            "\u001b[1m50/50\u001b[0m \u001b[32m━━━━━━━━━━━━━━━━━━━━\u001b[0m\u001b[37m\u001b[0m \u001b[1m0s\u001b[0m 3ms/step - loss: 7.1946e-05\n",
            "Epoch 7/200\n",
            "\u001b[1m50/50\u001b[0m \u001b[32m━━━━━━━━━━━━━━━━━━━━\u001b[0m\u001b[37m\u001b[0m \u001b[1m0s\u001b[0m 3ms/step - loss: 7.8464e-05\n",
            "Epoch 8/200\n",
            "\u001b[1m50/50\u001b[0m \u001b[32m━━━━━━━━━━━━━━━━━━━━\u001b[0m\u001b[37m\u001b[0m \u001b[1m0s\u001b[0m 4ms/step - loss: 5.9816e-05\n",
            "Epoch 9/200\n",
            "\u001b[1m50/50\u001b[0m \u001b[32m━━━━━━━━━━━━━━━━━━━━\u001b[0m\u001b[37m\u001b[0m \u001b[1m0s\u001b[0m 4ms/step - loss: 4.8994e-05\n",
            "Epoch 10/200\n",
            "\u001b[1m50/50\u001b[0m \u001b[32m━━━━━━━━━━━━━━━━━━━━\u001b[0m\u001b[37m\u001b[0m \u001b[1m0s\u001b[0m 4ms/step - loss: 7.6305e-05\n",
            "Epoch 11/200\n",
            "\u001b[1m50/50\u001b[0m \u001b[32m━━━━━━━━━━━━━━━━━━━━\u001b[0m\u001b[37m\u001b[0m \u001b[1m0s\u001b[0m 4ms/step - loss: 4.2166e-05\n",
            "Epoch 12/200\n",
            "\u001b[1m50/50\u001b[0m \u001b[32m━━━━━━━━━━━━━━━━━━━━\u001b[0m\u001b[37m\u001b[0m \u001b[1m0s\u001b[0m 4ms/step - loss: 7.8142e-05\n",
            "Epoch 13/200\n",
            "\u001b[1m50/50\u001b[0m \u001b[32m━━━━━━━━━━━━━━━━━━━━\u001b[0m\u001b[37m\u001b[0m \u001b[1m0s\u001b[0m 6ms/step - loss: 3.3432e-05\n",
            "Epoch 14/200\n",
            "\u001b[1m50/50\u001b[0m \u001b[32m━━━━━━━━━━━━━━━━━━━━\u001b[0m\u001b[37m\u001b[0m \u001b[1m1s\u001b[0m 6ms/step - loss: 3.5297e-05\n",
            "Epoch 15/200\n",
            "\u001b[1m50/50\u001b[0m \u001b[32m━━━━━━━━━━━━━━━━━━━━\u001b[0m\u001b[37m\u001b[0m \u001b[1m0s\u001b[0m 5ms/step - loss: 2.9939e-05\n",
            "Epoch 16/200\n",
            "\u001b[1m50/50\u001b[0m \u001b[32m━━━━━━━━━━━━━━━━━━━━\u001b[0m\u001b[37m\u001b[0m \u001b[1m0s\u001b[0m 6ms/step - loss: 6.3839e-05\n",
            "Epoch 17/200\n",
            "\u001b[1m50/50\u001b[0m \u001b[32m━━━━━━━━━━━━━━━━━━━━\u001b[0m\u001b[37m\u001b[0m \u001b[1m0s\u001b[0m 6ms/step - loss: 8.0028e-05\n",
            "Epoch 18/200\n",
            "\u001b[1m50/50\u001b[0m \u001b[32m━━━━━━━━━━━━━━━━━━━━\u001b[0m\u001b[37m\u001b[0m \u001b[1m1s\u001b[0m 5ms/step - loss: 1.9342e-05\n",
            "Epoch 19/200\n",
            "\u001b[1m50/50\u001b[0m \u001b[32m━━━━━━━━━━━━━━━━━━━━\u001b[0m\u001b[37m\u001b[0m \u001b[1m1s\u001b[0m 3ms/step - loss: 2.7130e-05\n",
            "Epoch 20/200\n",
            "\u001b[1m50/50\u001b[0m \u001b[32m━━━━━━━━━━━━━━━━━━━━\u001b[0m\u001b[37m\u001b[0m \u001b[1m0s\u001b[0m 3ms/step - loss: 4.0363e-05\n",
            "Epoch 21/200\n",
            "\u001b[1m50/50\u001b[0m \u001b[32m━━━━━━━━━━━━━━━━━━━━\u001b[0m\u001b[37m\u001b[0m \u001b[1m0s\u001b[0m 4ms/step - loss: 2.5902e-05\n",
            "Epoch 22/200\n",
            "\u001b[1m50/50\u001b[0m \u001b[32m━━━━━━━━━━━━━━━━━━━━\u001b[0m\u001b[37m\u001b[0m \u001b[1m0s\u001b[0m 4ms/step - loss: 1.2636e-05\n",
            "Epoch 23/200\n",
            "\u001b[1m50/50\u001b[0m \u001b[32m━━━━━━━━━━━━━━━━━━━━\u001b[0m\u001b[37m\u001b[0m \u001b[1m0s\u001b[0m 3ms/step - loss: 2.7066e-05\n",
            "Epoch 24/200\n",
            "\u001b[1m50/50\u001b[0m \u001b[32m━━━━━━━━━━━━━━━━━━━━\u001b[0m\u001b[37m\u001b[0m \u001b[1m0s\u001b[0m 3ms/step - loss: 1.9466e-05\n",
            "Epoch 25/200\n",
            "\u001b[1m50/50\u001b[0m \u001b[32m━━━━━━━━━━━━━━━━━━━━\u001b[0m\u001b[37m\u001b[0m \u001b[1m0s\u001b[0m 4ms/step - loss: 1.2619e-05\n",
            "Epoch 26/200\n",
            "\u001b[1m50/50\u001b[0m \u001b[32m━━━━━━━━━━━━━━━━━━━━\u001b[0m\u001b[37m\u001b[0m \u001b[1m0s\u001b[0m 4ms/step - loss: 1.2518e-05\n",
            "Epoch 27/200\n",
            "\u001b[1m50/50\u001b[0m \u001b[32m━━━━━━━━━━━━━━━━━━━━\u001b[0m\u001b[37m\u001b[0m \u001b[1m0s\u001b[0m 3ms/step - loss: 7.4276e-06\n",
            "Epoch 28/200\n",
            "\u001b[1m50/50\u001b[0m \u001b[32m━━━━━━━━━━━━━━━━━━━━\u001b[0m\u001b[37m\u001b[0m \u001b[1m0s\u001b[0m 4ms/step - loss: 1.6384e-05\n",
            "Epoch 29/200\n",
            "\u001b[1m50/50\u001b[0m \u001b[32m━━━━━━━━━━━━━━━━━━━━\u001b[0m\u001b[37m\u001b[0m \u001b[1m0s\u001b[0m 4ms/step - loss: 8.2348e-06\n",
            "Epoch 30/200\n",
            "\u001b[1m50/50\u001b[0m \u001b[32m━━━━━━━━━━━━━━━━━━━━\u001b[0m\u001b[37m\u001b[0m \u001b[1m0s\u001b[0m 4ms/step - loss: 1.8256e-05\n",
            "Epoch 31/200\n",
            "\u001b[1m50/50\u001b[0m \u001b[32m━━━━━━━━━━━━━━━━━━━━\u001b[0m\u001b[37m\u001b[0m \u001b[1m0s\u001b[0m 4ms/step - loss: 8.9238e-05\n",
            "Epoch 32/200\n",
            "\u001b[1m50/50\u001b[0m \u001b[32m━━━━━━━━━━━━━━━━━━━━\u001b[0m\u001b[37m\u001b[0m \u001b[1m0s\u001b[0m 4ms/step - loss: 8.8463e-06\n",
            "Epoch 33/200\n",
            "\u001b[1m50/50\u001b[0m \u001b[32m━━━━━━━━━━━━━━━━━━━━\u001b[0m\u001b[37m\u001b[0m \u001b[1m0s\u001b[0m 4ms/step - loss: 9.7164e-06\n",
            "Epoch 34/200\n",
            "\u001b[1m50/50\u001b[0m \u001b[32m━━━━━━━━━━━━━━━━━━━━\u001b[0m\u001b[37m\u001b[0m \u001b[1m0s\u001b[0m 3ms/step - loss: 2.6169e-05\n",
            "Epoch 35/200\n",
            "\u001b[1m50/50\u001b[0m \u001b[32m━━━━━━━━━━━━━━━━━━━━\u001b[0m\u001b[37m\u001b[0m \u001b[1m0s\u001b[0m 3ms/step - loss: 1.4555e-05\n",
            "Epoch 36/200\n",
            "\u001b[1m50/50\u001b[0m \u001b[32m━━━━━━━━━━━━━━━━━━━━\u001b[0m\u001b[37m\u001b[0m \u001b[1m0s\u001b[0m 3ms/step - loss: 5.8949e-06\n",
            "Epoch 37/200\n",
            "\u001b[1m50/50\u001b[0m \u001b[32m━━━━━━━━━━━━━━━━━━━━\u001b[0m\u001b[37m\u001b[0m \u001b[1m0s\u001b[0m 4ms/step - loss: 2.2138e-05\n",
            "Epoch 38/200\n",
            "\u001b[1m50/50\u001b[0m \u001b[32m━━━━━━━━━━━━━━━━━━━━\u001b[0m\u001b[37m\u001b[0m \u001b[1m0s\u001b[0m 3ms/step - loss: 2.9292e-05\n",
            "Epoch 39/200\n",
            "\u001b[1m50/50\u001b[0m \u001b[32m━━━━━━━━━━━━━━━━━━━━\u001b[0m\u001b[37m\u001b[0m \u001b[1m0s\u001b[0m 3ms/step - loss: 4.4610e-06\n",
            "Epoch 40/200\n",
            "\u001b[1m50/50\u001b[0m \u001b[32m━━━━━━━━━━━━━━━━━━━━\u001b[0m\u001b[37m\u001b[0m \u001b[1m0s\u001b[0m 4ms/step - loss: 4.1376e-06\n",
            "Epoch 41/200\n",
            "\u001b[1m50/50\u001b[0m \u001b[32m━━━━━━━━━━━━━━━━━━━━\u001b[0m\u001b[37m\u001b[0m \u001b[1m0s\u001b[0m 3ms/step - loss: 1.1159e-05\n",
            "Epoch 42/200\n",
            "\u001b[1m50/50\u001b[0m \u001b[32m━━━━━━━━━━━━━━━━━━━━\u001b[0m\u001b[37m\u001b[0m \u001b[1m0s\u001b[0m 3ms/step - loss: 6.7346e-06\n",
            "Epoch 43/200\n",
            "\u001b[1m50/50\u001b[0m \u001b[32m━━━━━━━━━━━━━━━━━━━━\u001b[0m\u001b[37m\u001b[0m \u001b[1m0s\u001b[0m 3ms/step - loss: 3.6837e-06\n",
            "Epoch 44/200\n",
            "\u001b[1m50/50\u001b[0m \u001b[32m━━━━━━━━━━━━━━━━━━━━\u001b[0m\u001b[37m\u001b[0m \u001b[1m0s\u001b[0m 3ms/step - loss: 2.4927e-05\n",
            "Epoch 45/200\n",
            "\u001b[1m50/50\u001b[0m \u001b[32m━━━━━━━━━━━━━━━━━━━━\u001b[0m\u001b[37m\u001b[0m \u001b[1m0s\u001b[0m 4ms/step - loss: 3.0884e-05\n",
            "Epoch 46/200\n",
            "\u001b[1m50/50\u001b[0m \u001b[32m━━━━━━━━━━━━━━━━━━━━\u001b[0m\u001b[37m\u001b[0m \u001b[1m0s\u001b[0m 4ms/step - loss: 3.9367e-05\n",
            "Epoch 47/200\n",
            "\u001b[1m50/50\u001b[0m \u001b[32m━━━━━━━━━━━━━━━━━━━━\u001b[0m\u001b[37m\u001b[0m \u001b[1m0s\u001b[0m 4ms/step - loss: 3.0781e-05\n",
            "Epoch 48/200\n",
            "\u001b[1m50/50\u001b[0m \u001b[32m━━━━━━━━━━━━━━━━━━━━\u001b[0m\u001b[37m\u001b[0m \u001b[1m0s\u001b[0m 4ms/step - loss: 2.5447e-05\n",
            "Epoch 49/200\n",
            "\u001b[1m50/50\u001b[0m \u001b[32m━━━━━━━━━━━━━━━━━━━━\u001b[0m\u001b[37m\u001b[0m \u001b[1m0s\u001b[0m 3ms/step - loss: 5.6404e-05\n",
            "Epoch 50/200\n",
            "\u001b[1m50/50\u001b[0m \u001b[32m━━━━━━━━━━━━━━━━━━━━\u001b[0m\u001b[37m\u001b[0m \u001b[1m0s\u001b[0m 4ms/step - loss: 7.5022e-06\n",
            "Epoch 51/200\n",
            "\u001b[1m50/50\u001b[0m \u001b[32m━━━━━━━━━━━━━━━━━━━━\u001b[0m\u001b[37m\u001b[0m \u001b[1m0s\u001b[0m 4ms/step - loss: 3.2981e-05\n",
            "Epoch 52/200\n",
            "\u001b[1m50/50\u001b[0m \u001b[32m━━━━━━━━━━━━━━━━━━━━\u001b[0m\u001b[37m\u001b[0m \u001b[1m0s\u001b[0m 4ms/step - loss: 1.4876e-05\n",
            "Epoch 53/200\n",
            "\u001b[1m50/50\u001b[0m \u001b[32m━━━━━━━━━━━━━━━━━━━━\u001b[0m\u001b[37m\u001b[0m \u001b[1m0s\u001b[0m 4ms/step - loss: 2.9030e-06\n",
            "Epoch 54/200\n",
            "\u001b[1m50/50\u001b[0m \u001b[32m━━━━━━━━━━━━━━━━━━━━\u001b[0m\u001b[37m\u001b[0m \u001b[1m0s\u001b[0m 3ms/step - loss: 5.1024e-05\n",
            "Epoch 55/200\n",
            "\u001b[1m50/50\u001b[0m \u001b[32m━━━━━━━━━━━━━━━━━━━━\u001b[0m\u001b[37m\u001b[0m \u001b[1m0s\u001b[0m 3ms/step - loss: 5.7652e-05\n",
            "Epoch 56/200\n",
            "\u001b[1m50/50\u001b[0m \u001b[32m━━━━━━━━━━━━━━━━━━━━\u001b[0m\u001b[37m\u001b[0m \u001b[1m0s\u001b[0m 5ms/step - loss: 2.8222e-06\n",
            "Epoch 57/200\n",
            "\u001b[1m50/50\u001b[0m \u001b[32m━━━━━━━━━━━━━━━━━━━━\u001b[0m\u001b[37m\u001b[0m \u001b[1m0s\u001b[0m 6ms/step - loss: 5.0547e-06\n",
            "Epoch 58/200\n",
            "\u001b[1m50/50\u001b[0m \u001b[32m━━━━━━━━━━━━━━━━━━━━\u001b[0m\u001b[37m\u001b[0m \u001b[1m1s\u001b[0m 6ms/step - loss: 4.2126e-06\n",
            "Epoch 59/200\n",
            "\u001b[1m50/50\u001b[0m \u001b[32m━━━━━━━━━━━━━━━━━━━━\u001b[0m\u001b[37m\u001b[0m \u001b[1m1s\u001b[0m 6ms/step - loss: 2.4007e-05\n",
            "Epoch 60/200\n",
            "\u001b[1m50/50\u001b[0m \u001b[32m━━━━━━━━━━━━━━━━━━━━\u001b[0m\u001b[37m\u001b[0m \u001b[1m0s\u001b[0m 6ms/step - loss: 7.9079e-06\n",
            "Epoch 61/200\n",
            "\u001b[1m50/50\u001b[0m \u001b[32m━━━━━━━━━━━━━━━━━━━━\u001b[0m\u001b[37m\u001b[0m \u001b[1m1s\u001b[0m 6ms/step - loss: 3.8119e-05\n",
            "Epoch 62/200\n",
            "\u001b[1m50/50\u001b[0m \u001b[32m━━━━━━━━━━━━━━━━━━━━\u001b[0m\u001b[37m\u001b[0m \u001b[1m1s\u001b[0m 4ms/step - loss: 3.1931e-06\n",
            "Epoch 63/200\n",
            "\u001b[1m50/50\u001b[0m \u001b[32m━━━━━━━━━━━━━━━━━━━━\u001b[0m\u001b[37m\u001b[0m \u001b[1m0s\u001b[0m 3ms/step - loss: 2.2445e-06\n",
            "Epoch 64/200\n",
            "\u001b[1m50/50\u001b[0m \u001b[32m━━━━━━━━━━━━━━━━━━━━\u001b[0m\u001b[37m\u001b[0m \u001b[1m0s\u001b[0m 3ms/step - loss: 3.2091e-06\n",
            "Epoch 65/200\n",
            "\u001b[1m50/50\u001b[0m \u001b[32m━━━━━━━━━━━━━━━━━━━━\u001b[0m\u001b[37m\u001b[0m \u001b[1m0s\u001b[0m 3ms/step - loss: 8.9311e-06\n",
            "Epoch 66/200\n",
            "\u001b[1m50/50\u001b[0m \u001b[32m━━━━━━━━━━━━━━━━━━━━\u001b[0m\u001b[37m\u001b[0m \u001b[1m0s\u001b[0m 4ms/step - loss: 5.4806e-06\n",
            "Epoch 67/200\n",
            "\u001b[1m50/50\u001b[0m \u001b[32m━━━━━━━━━━━━━━━━━━━━\u001b[0m\u001b[37m\u001b[0m \u001b[1m0s\u001b[0m 4ms/step - loss: 4.5264e-06\n",
            "Epoch 68/200\n",
            "\u001b[1m50/50\u001b[0m \u001b[32m━━━━━━━━━━━━━━━━━━━━\u001b[0m\u001b[37m\u001b[0m \u001b[1m0s\u001b[0m 4ms/step - loss: 1.4555e-06\n",
            "Epoch 69/200\n",
            "\u001b[1m50/50\u001b[0m \u001b[32m━━━━━━━━━━━━━━━━━━━━\u001b[0m\u001b[37m\u001b[0m \u001b[1m0s\u001b[0m 4ms/step - loss: 4.0903e-05\n",
            "Epoch 70/200\n",
            "\u001b[1m50/50\u001b[0m \u001b[32m━━━━━━━━━━━━━━━━━━━━\u001b[0m\u001b[37m\u001b[0m \u001b[1m0s\u001b[0m 4ms/step - loss: 6.0269e-06\n",
            "Epoch 71/200\n",
            "\u001b[1m50/50\u001b[0m \u001b[32m━━━━━━━━━━━━━━━━━━━━\u001b[0m\u001b[37m\u001b[0m \u001b[1m0s\u001b[0m 3ms/step - loss: 2.0281e-06\n",
            "Epoch 72/200\n",
            "\u001b[1m50/50\u001b[0m \u001b[32m━━━━━━━━━━━━━━━━━━━━\u001b[0m\u001b[37m\u001b[0m \u001b[1m0s\u001b[0m 3ms/step - loss: 8.0325e-07\n",
            "Epoch 73/200\n",
            "\u001b[1m50/50\u001b[0m \u001b[32m━━━━━━━━━━━━━━━━━━━━\u001b[0m\u001b[37m\u001b[0m \u001b[1m0s\u001b[0m 3ms/step - loss: 1.5867e-05\n",
            "Epoch 74/200\n",
            "\u001b[1m50/50\u001b[0m \u001b[32m━━━━━━━━━━━━━━━━━━━━\u001b[0m\u001b[37m\u001b[0m \u001b[1m0s\u001b[0m 4ms/step - loss: 5.8409e-06\n",
            "Epoch 75/200\n",
            "\u001b[1m50/50\u001b[0m \u001b[32m━━━━━━━━━━━━━━━━━━━━\u001b[0m\u001b[37m\u001b[0m \u001b[1m0s\u001b[0m 3ms/step - loss: 4.3743e-06\n",
            "Epoch 76/200\n",
            "\u001b[1m50/50\u001b[0m \u001b[32m━━━━━━━━━━━━━━━━━━━━\u001b[0m\u001b[37m\u001b[0m \u001b[1m0s\u001b[0m 3ms/step - loss: 1.4125e-06\n",
            "Epoch 77/200\n",
            "\u001b[1m50/50\u001b[0m \u001b[32m━━━━━━━━━━━━━━━━━━━━\u001b[0m\u001b[37m\u001b[0m \u001b[1m0s\u001b[0m 4ms/step - loss: 3.6437e-05\n",
            "Epoch 78/200\n",
            "\u001b[1m50/50\u001b[0m \u001b[32m━━━━━━━━━━━━━━━━━━━━\u001b[0m\u001b[37m\u001b[0m \u001b[1m0s\u001b[0m 4ms/step - loss: 9.6127e-07\n",
            "Epoch 79/200\n",
            "\u001b[1m50/50\u001b[0m \u001b[32m━━━━━━━━━━━━━━━━━━━━\u001b[0m\u001b[37m\u001b[0m \u001b[1m0s\u001b[0m 4ms/step - loss: 3.0901e-06\n",
            "Epoch 80/200\n",
            "\u001b[1m50/50\u001b[0m \u001b[32m━━━━━━━━━━━━━━━━━━━━\u001b[0m\u001b[37m\u001b[0m \u001b[1m0s\u001b[0m 4ms/step - loss: 2.1162e-06\n",
            "Epoch 81/200\n",
            "\u001b[1m50/50\u001b[0m \u001b[32m━━━━━━━━━━━━━━━━━━━━\u001b[0m\u001b[37m\u001b[0m \u001b[1m0s\u001b[0m 4ms/step - loss: 1.8937e-05\n",
            "Epoch 82/200\n",
            "\u001b[1m50/50\u001b[0m \u001b[32m━━━━━━━━━━━━━━━━━━━━\u001b[0m\u001b[37m\u001b[0m \u001b[1m0s\u001b[0m 4ms/step - loss: 4.0889e-05\n",
            "Epoch 83/200\n",
            "\u001b[1m50/50\u001b[0m \u001b[32m━━━━━━━━━━━━━━━━━━━━\u001b[0m\u001b[37m\u001b[0m \u001b[1m0s\u001b[0m 4ms/step - loss: 1.2860e-06\n",
            "Epoch 84/200\n",
            "\u001b[1m50/50\u001b[0m \u001b[32m━━━━━━━━━━━━━━━━━━━━\u001b[0m\u001b[37m\u001b[0m \u001b[1m0s\u001b[0m 3ms/step - loss: 2.8428e-06\n",
            "Epoch 85/200\n",
            "\u001b[1m50/50\u001b[0m \u001b[32m━━━━━━━━━━━━━━━━━━━━\u001b[0m\u001b[37m\u001b[0m \u001b[1m0s\u001b[0m 4ms/step - loss: 6.1374e-06\n",
            "Epoch 86/200\n",
            "\u001b[1m50/50\u001b[0m \u001b[32m━━━━━━━━━━━━━━━━━━━━\u001b[0m\u001b[37m\u001b[0m \u001b[1m0s\u001b[0m 3ms/step - loss: 6.8943e-05\n",
            "Epoch 87/200\n",
            "\u001b[1m50/50\u001b[0m \u001b[32m━━━━━━━━━━━━━━━━━━━━\u001b[0m\u001b[37m\u001b[0m \u001b[1m0s\u001b[0m 4ms/step - loss: 9.5405e-06\n",
            "Epoch 88/200\n",
            "\u001b[1m50/50\u001b[0m \u001b[32m━━━━━━━━━━━━━━━━━━━━\u001b[0m\u001b[37m\u001b[0m \u001b[1m0s\u001b[0m 3ms/step - loss: 3.6497e-06\n",
            "Epoch 89/200\n",
            "\u001b[1m50/50\u001b[0m \u001b[32m━━━━━━━━━━━━━━━━━━━━\u001b[0m\u001b[37m\u001b[0m \u001b[1m0s\u001b[0m 4ms/step - loss: 1.3986e-05\n",
            "Epoch 90/200\n",
            "\u001b[1m50/50\u001b[0m \u001b[32m━━━━━━━━━━━━━━━━━━━━\u001b[0m\u001b[37m\u001b[0m \u001b[1m0s\u001b[0m 3ms/step - loss: 3.4547e-06\n",
            "Epoch 91/200\n",
            "\u001b[1m50/50\u001b[0m \u001b[32m━━━━━━━━━━━━━━━━━━━━\u001b[0m\u001b[37m\u001b[0m \u001b[1m0s\u001b[0m 4ms/step - loss: 7.7445e-06\n",
            "Epoch 92/200\n",
            "\u001b[1m50/50\u001b[0m \u001b[32m━━━━━━━━━━━━━━━━━━━━\u001b[0m\u001b[37m\u001b[0m \u001b[1m0s\u001b[0m 3ms/step - loss: 1.6467e-06\n",
            "Epoch 93/200\n",
            "\u001b[1m50/50\u001b[0m \u001b[32m━━━━━━━━━━━━━━━━━━━━\u001b[0m\u001b[37m\u001b[0m \u001b[1m0s\u001b[0m 4ms/step - loss: 1.1149e-05\n",
            "Epoch 94/200\n",
            "\u001b[1m50/50\u001b[0m \u001b[32m━━━━━━━━━━━━━━━━━━━━\u001b[0m\u001b[37m\u001b[0m \u001b[1m0s\u001b[0m 4ms/step - loss: 7.5899e-06\n",
            "Epoch 95/200\n",
            "\u001b[1m50/50\u001b[0m \u001b[32m━━━━━━━━━━━━━━━━━━━━\u001b[0m\u001b[37m\u001b[0m \u001b[1m0s\u001b[0m 4ms/step - loss: 1.9253e-06\n",
            "Epoch 96/200\n",
            "\u001b[1m50/50\u001b[0m \u001b[32m━━━━━━━━━━━━━━━━━━━━\u001b[0m\u001b[37m\u001b[0m \u001b[1m0s\u001b[0m 3ms/step - loss: 9.3685e-07\n",
            "Epoch 97/200\n",
            "\u001b[1m50/50\u001b[0m \u001b[32m━━━━━━━━━━━━━━━━━━━━\u001b[0m\u001b[37m\u001b[0m \u001b[1m0s\u001b[0m 4ms/step - loss: 8.3805e-06\n",
            "Epoch 98/200\n",
            "\u001b[1m50/50\u001b[0m \u001b[32m━━━━━━━━━━━━━━━━━━━━\u001b[0m\u001b[37m\u001b[0m \u001b[1m0s\u001b[0m 3ms/step - loss: 4.2251e-06\n",
            "Epoch 99/200\n",
            "\u001b[1m50/50\u001b[0m \u001b[32m━━━━━━━━━━━━━━━━━━━━\u001b[0m\u001b[37m\u001b[0m \u001b[1m0s\u001b[0m 4ms/step - loss: 5.4127e-06\n",
            "Epoch 100/200\n",
            "\u001b[1m50/50\u001b[0m \u001b[32m━━━━━━━━━━━━━━━━━━━━\u001b[0m\u001b[37m\u001b[0m \u001b[1m0s\u001b[0m 4ms/step - loss: 5.9095e-07\n",
            "Epoch 101/200\n",
            "\u001b[1m50/50\u001b[0m \u001b[32m━━━━━━━━━━━━━━━━━━━━\u001b[0m\u001b[37m\u001b[0m \u001b[1m0s\u001b[0m 5ms/step - loss: 1.2388e-06\n",
            "Epoch 102/200\n",
            "\u001b[1m50/50\u001b[0m \u001b[32m━━━━━━━━━━━━━━━━━━━━\u001b[0m\u001b[37m\u001b[0m \u001b[1m0s\u001b[0m 6ms/step - loss: 1.7001e-06\n",
            "Epoch 103/200\n",
            "\u001b[1m50/50\u001b[0m \u001b[32m━━━━━━━━━━━━━━━━━━━━\u001b[0m\u001b[37m\u001b[0m \u001b[1m0s\u001b[0m 6ms/step - loss: 2.0008e-06\n",
            "Epoch 104/200\n",
            "\u001b[1m50/50\u001b[0m \u001b[32m━━━━━━━━━━━━━━━━━━━━\u001b[0m\u001b[37m\u001b[0m \u001b[1m0s\u001b[0m 6ms/step - loss: 3.2932e-06\n",
            "Epoch 105/200\n",
            "\u001b[1m50/50\u001b[0m \u001b[32m━━━━━━━━━━━━━━━━━━━━\u001b[0m\u001b[37m\u001b[0m \u001b[1m1s\u001b[0m 5ms/step - loss: 1.4111e-06\n",
            "Epoch 106/200\n",
            "\u001b[1m50/50\u001b[0m \u001b[32m━━━━━━━━━━━━━━━━━━━━\u001b[0m\u001b[37m\u001b[0m \u001b[1m0s\u001b[0m 6ms/step - loss: 3.6841e-05\n",
            "Epoch 107/200\n",
            "\u001b[1m50/50\u001b[0m \u001b[32m━━━━━━━━━━━━━━━━━━━━\u001b[0m\u001b[37m\u001b[0m \u001b[1m0s\u001b[0m 6ms/step - loss: 4.4371e-05\n",
            "Epoch 108/200\n",
            "\u001b[1m50/50\u001b[0m \u001b[32m━━━━━━━━━━━━━━━━━━━━\u001b[0m\u001b[37m\u001b[0m \u001b[1m1s\u001b[0m 6ms/step - loss: 5.4947e-06\n",
            "Epoch 109/200\n",
            "\u001b[1m50/50\u001b[0m \u001b[32m━━━━━━━━━━━━━━━━━━━━\u001b[0m\u001b[37m\u001b[0m \u001b[1m1s\u001b[0m 4ms/step - loss: 1.7889e-06\n",
            "Epoch 110/200\n",
            "\u001b[1m50/50\u001b[0m \u001b[32m━━━━━━━━━━━━━━━━━━━━\u001b[0m\u001b[37m\u001b[0m \u001b[1m0s\u001b[0m 3ms/step - loss: 4.2253e-06\n",
            "Epoch 111/200\n",
            "\u001b[1m50/50\u001b[0m \u001b[32m━━━━━━━━━━━━━━━━━━━━\u001b[0m\u001b[37m\u001b[0m \u001b[1m0s\u001b[0m 3ms/step - loss: 1.5333e-06\n",
            "Epoch 112/200\n",
            "\u001b[1m50/50\u001b[0m \u001b[32m━━━━━━━━━━━━━━━━━━━━\u001b[0m\u001b[37m\u001b[0m \u001b[1m0s\u001b[0m 4ms/step - loss: 9.8352e-07\n",
            "Epoch 113/200\n",
            "\u001b[1m50/50\u001b[0m \u001b[32m━━━━━━━━━━━━━━━━━━━━\u001b[0m\u001b[37m\u001b[0m \u001b[1m0s\u001b[0m 3ms/step - loss: 6.5474e-07\n",
            "Epoch 114/200\n",
            "\u001b[1m50/50\u001b[0m \u001b[32m━━━━━━━━━━━━━━━━━━━━\u001b[0m\u001b[37m\u001b[0m \u001b[1m0s\u001b[0m 4ms/step - loss: 2.4917e-06\n",
            "Epoch 115/200\n",
            "\u001b[1m50/50\u001b[0m \u001b[32m━━━━━━━━━━━━━━━━━━━━\u001b[0m\u001b[37m\u001b[0m \u001b[1m0s\u001b[0m 4ms/step - loss: 3.7606e-06\n",
            "Epoch 116/200\n",
            "\u001b[1m50/50\u001b[0m \u001b[32m━━━━━━━━━━━━━━━━━━━━\u001b[0m\u001b[37m\u001b[0m \u001b[1m0s\u001b[0m 4ms/step - loss: 7.8137e-07\n",
            "Epoch 117/200\n",
            "\u001b[1m50/50\u001b[0m \u001b[32m━━━━━━━━━━━━━━━━━━━━\u001b[0m\u001b[37m\u001b[0m \u001b[1m0s\u001b[0m 4ms/step - loss: 4.5860e-07\n",
            "Epoch 118/200\n",
            "\u001b[1m50/50\u001b[0m \u001b[32m━━━━━━━━━━━━━━━━━━━━\u001b[0m\u001b[37m\u001b[0m \u001b[1m0s\u001b[0m 4ms/step - loss: 2.5379e-06\n",
            "Epoch 119/200\n",
            "\u001b[1m50/50\u001b[0m \u001b[32m━━━━━━━━━━━━━━━━━━━━\u001b[0m\u001b[37m\u001b[0m \u001b[1m0s\u001b[0m 4ms/step - loss: 8.2862e-07\n",
            "Epoch 120/200\n",
            "\u001b[1m50/50\u001b[0m \u001b[32m━━━━━━━━━━━━━━━━━━━━\u001b[0m\u001b[37m\u001b[0m \u001b[1m0s\u001b[0m 4ms/step - loss: 1.3126e-05\n",
            "Epoch 121/200\n",
            "\u001b[1m50/50\u001b[0m \u001b[32m━━━━━━━━━━━━━━━━━━━━\u001b[0m\u001b[37m\u001b[0m \u001b[1m0s\u001b[0m 4ms/step - loss: 7.3679e-05\n",
            "Epoch 122/200\n",
            "\u001b[1m50/50\u001b[0m \u001b[32m━━━━━━━━━━━━━━━━━━━━\u001b[0m\u001b[37m\u001b[0m \u001b[1m0s\u001b[0m 4ms/step - loss: 2.5254e-05\n",
            "Epoch 123/200\n",
            "\u001b[1m50/50\u001b[0m \u001b[32m━━━━━━━━━━━━━━━━━━━━\u001b[0m\u001b[37m\u001b[0m \u001b[1m0s\u001b[0m 4ms/step - loss: 9.7154e-07\n",
            "Epoch 124/200\n",
            "\u001b[1m50/50\u001b[0m \u001b[32m━━━━━━━━━━━━━━━━━━━━\u001b[0m\u001b[37m\u001b[0m \u001b[1m0s\u001b[0m 4ms/step - loss: 3.3472e-06\n",
            "Epoch 125/200\n",
            "\u001b[1m50/50\u001b[0m \u001b[32m━━━━━━━━━━━━━━━━━━━━\u001b[0m\u001b[37m\u001b[0m \u001b[1m0s\u001b[0m 3ms/step - loss: 2.7931e-06\n",
            "Epoch 126/200\n",
            "\u001b[1m50/50\u001b[0m \u001b[32m━━━━━━━━━━━━━━━━━━━━\u001b[0m\u001b[37m\u001b[0m \u001b[1m0s\u001b[0m 4ms/step - loss: 4.7365e-06\n",
            "Epoch 127/200\n",
            "\u001b[1m50/50\u001b[0m \u001b[32m━━━━━━━━━━━━━━━━━━━━\u001b[0m\u001b[37m\u001b[0m \u001b[1m0s\u001b[0m 4ms/step - loss: 1.7904e-06\n",
            "Epoch 128/200\n",
            "\u001b[1m50/50\u001b[0m \u001b[32m━━━━━━━━━━━━━━━━━━━━\u001b[0m\u001b[37m\u001b[0m \u001b[1m0s\u001b[0m 4ms/step - loss: 4.8267e-07\n",
            "Epoch 129/200\n",
            "\u001b[1m50/50\u001b[0m \u001b[32m━━━━━━━━━━━━━━━━━━━━\u001b[0m\u001b[37m\u001b[0m \u001b[1m0s\u001b[0m 4ms/step - loss: 1.3681e-06\n",
            "Epoch 130/200\n",
            "\u001b[1m50/50\u001b[0m \u001b[32m━━━━━━━━━━━━━━━━━━━━\u001b[0m\u001b[37m\u001b[0m \u001b[1m0s\u001b[0m 3ms/step - loss: 8.7720e-07\n",
            "Epoch 131/200\n",
            "\u001b[1m50/50\u001b[0m \u001b[32m━━━━━━━━━━━━━━━━━━━━\u001b[0m\u001b[37m\u001b[0m \u001b[1m0s\u001b[0m 3ms/step - loss: 1.4667e-06\n",
            "Epoch 132/200\n",
            "\u001b[1m50/50\u001b[0m \u001b[32m━━━━━━━━━━━━━━━━━━━━\u001b[0m\u001b[37m\u001b[0m \u001b[1m0s\u001b[0m 4ms/step - loss: 7.5013e-07\n",
            "Epoch 133/200\n",
            "\u001b[1m50/50\u001b[0m \u001b[32m━━━━━━━━━━━━━━━━━━━━\u001b[0m\u001b[37m\u001b[0m \u001b[1m0s\u001b[0m 4ms/step - loss: 4.4139e-06\n",
            "Epoch 134/200\n",
            "\u001b[1m50/50\u001b[0m \u001b[32m━━━━━━━━━━━━━━━━━━━━\u001b[0m\u001b[37m\u001b[0m \u001b[1m0s\u001b[0m 4ms/step - loss: 6.5803e-06\n",
            "Epoch 135/200\n",
            "\u001b[1m50/50\u001b[0m \u001b[32m━━━━━━━━━━━━━━━━━━━━\u001b[0m\u001b[37m\u001b[0m \u001b[1m0s\u001b[0m 3ms/step - loss: 5.3981e-06\n",
            "Epoch 136/200\n",
            "\u001b[1m50/50\u001b[0m \u001b[32m━━━━━━━━━━━━━━━━━━━━\u001b[0m\u001b[37m\u001b[0m \u001b[1m0s\u001b[0m 4ms/step - loss: 2.5215e-06\n",
            "Epoch 137/200\n",
            "\u001b[1m50/50\u001b[0m \u001b[32m━━━━━━━━━━━━━━━━━━━━\u001b[0m\u001b[37m\u001b[0m \u001b[1m0s\u001b[0m 4ms/step - loss: 3.9617e-06\n",
            "Epoch 138/200\n",
            "\u001b[1m50/50\u001b[0m \u001b[32m━━━━━━━━━━━━━━━━━━━━\u001b[0m\u001b[37m\u001b[0m \u001b[1m0s\u001b[0m 3ms/step - loss: 2.1549e-06\n",
            "Epoch 139/200\n",
            "\u001b[1m50/50\u001b[0m \u001b[32m━━━━━━━━━━━━━━━━━━━━\u001b[0m\u001b[37m\u001b[0m \u001b[1m0s\u001b[0m 4ms/step - loss: 3.0374e-05\n",
            "Epoch 140/200\n",
            "\u001b[1m50/50\u001b[0m \u001b[32m━━━━━━━━━━━━━━━━━━━━\u001b[0m\u001b[37m\u001b[0m \u001b[1m0s\u001b[0m 4ms/step - loss: 5.3307e-06\n",
            "Epoch 141/200\n",
            "\u001b[1m50/50\u001b[0m \u001b[32m━━━━━━━━━━━━━━━━━━━━\u001b[0m\u001b[37m\u001b[0m \u001b[1m0s\u001b[0m 4ms/step - loss: 3.4934e-06\n",
            "Epoch 142/200\n",
            "\u001b[1m50/50\u001b[0m \u001b[32m━━━━━━━━━━━━━━━━━━━━\u001b[0m\u001b[37m\u001b[0m \u001b[1m0s\u001b[0m 4ms/step - loss: 6.9251e-06\n",
            "Epoch 143/200\n",
            "\u001b[1m50/50\u001b[0m \u001b[32m━━━━━━━━━━━━━━━━━━━━\u001b[0m\u001b[37m\u001b[0m \u001b[1m0s\u001b[0m 4ms/step - loss: 3.8418e-06\n",
            "Epoch 144/200\n",
            "\u001b[1m50/50\u001b[0m \u001b[32m━━━━━━━━━━━━━━━━━━━━\u001b[0m\u001b[37m\u001b[0m \u001b[1m0s\u001b[0m 5ms/step - loss: 3.0057e-06\n",
            "Epoch 145/200\n",
            "\u001b[1m50/50\u001b[0m \u001b[32m━━━━━━━━━━━━━━━━━━━━\u001b[0m\u001b[37m\u001b[0m \u001b[1m0s\u001b[0m 5ms/step - loss: 1.9861e-06\n",
            "Epoch 146/200\n",
            "\u001b[1m50/50\u001b[0m \u001b[32m━━━━━━━━━━━━━━━━━━━━\u001b[0m\u001b[37m\u001b[0m \u001b[1m0s\u001b[0m 5ms/step - loss: 2.9788e-04\n",
            "Epoch 147/200\n",
            "\u001b[1m50/50\u001b[0m \u001b[32m━━━━━━━━━━━━━━━━━━━━\u001b[0m\u001b[37m\u001b[0m \u001b[1m0s\u001b[0m 5ms/step - loss: 4.7522e-05\n",
            "Epoch 148/200\n",
            "\u001b[1m50/50\u001b[0m \u001b[32m━━━━━━━━━━━━━━━━━━━━\u001b[0m\u001b[37m\u001b[0m \u001b[1m1s\u001b[0m 5ms/step - loss: 3.8633e-06\n",
            "Epoch 149/200\n",
            "\u001b[1m50/50\u001b[0m \u001b[32m━━━━━━━━━━━━━━━━━━━━\u001b[0m\u001b[37m\u001b[0m \u001b[1m0s\u001b[0m 5ms/step - loss: 1.7335e-06\n",
            "Epoch 150/200\n",
            "\u001b[1m50/50\u001b[0m \u001b[32m━━━━━━━━━━━━━━━━━━━━\u001b[0m\u001b[37m\u001b[0m \u001b[1m0s\u001b[0m 7ms/step - loss: 1.1995e-06\n",
            "Epoch 151/200\n",
            "\u001b[1m50/50\u001b[0m \u001b[32m━━━━━━━━━━━━━━━━━━━━\u001b[0m\u001b[37m\u001b[0m \u001b[1m0s\u001b[0m 5ms/step - loss: 1.1395e-06\n",
            "Epoch 152/200\n",
            "\u001b[1m50/50\u001b[0m \u001b[32m━━━━━━━━━━━━━━━━━━━━\u001b[0m\u001b[37m\u001b[0m \u001b[1m1s\u001b[0m 5ms/step - loss: 6.1191e-07\n",
            "Epoch 153/200\n",
            "\u001b[1m50/50\u001b[0m \u001b[32m━━━━━━━━━━━━━━━━━━━━\u001b[0m\u001b[37m\u001b[0m \u001b[1m0s\u001b[0m 4ms/step - loss: 1.1038e-06\n",
            "Epoch 154/200\n",
            "\u001b[1m50/50\u001b[0m \u001b[32m━━━━━━━━━━━━━━━━━━━━\u001b[0m\u001b[37m\u001b[0m \u001b[1m0s\u001b[0m 3ms/step - loss: 9.2024e-07\n",
            "Epoch 155/200\n",
            "\u001b[1m50/50\u001b[0m \u001b[32m━━━━━━━━━━━━━━━━━━━━\u001b[0m\u001b[37m\u001b[0m \u001b[1m0s\u001b[0m 3ms/step - loss: 5.8535e-07\n",
            "Epoch 156/200\n",
            "\u001b[1m50/50\u001b[0m \u001b[32m━━━━━━━━━━━━━━━━━━━━\u001b[0m\u001b[37m\u001b[0m \u001b[1m0s\u001b[0m 5ms/step - loss: 4.1680e-07\n",
            "Epoch 157/200\n",
            "\u001b[1m50/50\u001b[0m \u001b[32m━━━━━━━━━━━━━━━━━━━━\u001b[0m\u001b[37m\u001b[0m \u001b[1m0s\u001b[0m 4ms/step - loss: 5.0202e-07\n",
            "Epoch 158/200\n",
            "\u001b[1m50/50\u001b[0m \u001b[32m━━━━━━━━━━━━━━━━━━━━\u001b[0m\u001b[37m\u001b[0m \u001b[1m0s\u001b[0m 3ms/step - loss: 3.2359e-07\n",
            "Epoch 159/200\n",
            "\u001b[1m50/50\u001b[0m \u001b[32m━━━━━━━━━━━━━━━━━━━━\u001b[0m\u001b[37m\u001b[0m \u001b[1m0s\u001b[0m 3ms/step - loss: 4.5997e-07\n",
            "Epoch 160/200\n",
            "\u001b[1m50/50\u001b[0m \u001b[32m━━━━━━━━━━━━━━━━━━━━\u001b[0m\u001b[37m\u001b[0m \u001b[1m0s\u001b[0m 4ms/step - loss: 3.7839e-07\n",
            "Epoch 161/200\n",
            "\u001b[1m50/50\u001b[0m \u001b[32m━━━━━━━━━━━━━━━━━━━━\u001b[0m\u001b[37m\u001b[0m \u001b[1m0s\u001b[0m 3ms/step - loss: 5.3562e-07\n",
            "Epoch 162/200\n",
            "\u001b[1m50/50\u001b[0m \u001b[32m━━━━━━━━━━━━━━━━━━━━\u001b[0m\u001b[37m\u001b[0m \u001b[1m0s\u001b[0m 4ms/step - loss: 2.6555e-07\n",
            "Epoch 163/200\n",
            "\u001b[1m50/50\u001b[0m \u001b[32m━━━━━━━━━━━━━━━━━━━━\u001b[0m\u001b[37m\u001b[0m \u001b[1m0s\u001b[0m 4ms/step - loss: 9.6955e-07\n",
            "Epoch 164/200\n",
            "\u001b[1m50/50\u001b[0m \u001b[32m━━━━━━━━━━━━━━━━━━━━\u001b[0m\u001b[37m\u001b[0m \u001b[1m0s\u001b[0m 4ms/step - loss: 4.3558e-07\n",
            "Epoch 165/200\n",
            "\u001b[1m50/50\u001b[0m \u001b[32m━━━━━━━━━━━━━━━━━━━━\u001b[0m\u001b[37m\u001b[0m \u001b[1m0s\u001b[0m 4ms/step - loss: 3.6818e-07\n",
            "Epoch 166/200\n",
            "\u001b[1m50/50\u001b[0m \u001b[32m━━━━━━━━━━━━━━━━━━━━\u001b[0m\u001b[37m\u001b[0m \u001b[1m0s\u001b[0m 4ms/step - loss: 2.6767e-07\n",
            "Epoch 167/200\n",
            "\u001b[1m50/50\u001b[0m \u001b[32m━━━━━━━━━━━━━━━━━━━━\u001b[0m\u001b[37m\u001b[0m \u001b[1m0s\u001b[0m 3ms/step - loss: 5.4855e-07\n",
            "Epoch 168/200\n",
            "\u001b[1m50/50\u001b[0m \u001b[32m━━━━━━━━━━━━━━━━━━━━\u001b[0m\u001b[37m\u001b[0m \u001b[1m0s\u001b[0m 4ms/step - loss: 1.0331e-06\n",
            "Epoch 169/200\n",
            "\u001b[1m50/50\u001b[0m \u001b[32m━━━━━━━━━━━━━━━━━━━━\u001b[0m\u001b[37m\u001b[0m \u001b[1m0s\u001b[0m 3ms/step - loss: 2.5822e-06\n",
            "Epoch 170/200\n",
            "\u001b[1m50/50\u001b[0m \u001b[32m━━━━━━━━━━━━━━━━━━━━\u001b[0m\u001b[37m\u001b[0m \u001b[1m0s\u001b[0m 3ms/step - loss: 1.2229e-06\n",
            "Epoch 171/200\n",
            "\u001b[1m50/50\u001b[0m \u001b[32m━━━━━━━━━━━━━━━━━━━━\u001b[0m\u001b[37m\u001b[0m \u001b[1m0s\u001b[0m 4ms/step - loss: 1.0320e-06\n",
            "Epoch 172/200\n",
            "\u001b[1m50/50\u001b[0m \u001b[32m━━━━━━━━━━━━━━━━━━━━\u001b[0m\u001b[37m\u001b[0m \u001b[1m0s\u001b[0m 4ms/step - loss: 9.0802e-07\n",
            "Epoch 173/200\n",
            "\u001b[1m50/50\u001b[0m \u001b[32m━━━━━━━━━━━━━━━━━━━━\u001b[0m\u001b[37m\u001b[0m \u001b[1m0s\u001b[0m 4ms/step - loss: 4.7611e-07\n",
            "Epoch 174/200\n",
            "\u001b[1m50/50\u001b[0m \u001b[32m━━━━━━━━━━━━━━━━━━━━\u001b[0m\u001b[37m\u001b[0m \u001b[1m0s\u001b[0m 3ms/step - loss: 8.9425e-07\n",
            "Epoch 175/200\n",
            "\u001b[1m50/50\u001b[0m \u001b[32m━━━━━━━━━━━━━━━━━━━━\u001b[0m\u001b[37m\u001b[0m \u001b[1m0s\u001b[0m 4ms/step - loss: 1.2635e-06\n",
            "Epoch 176/200\n",
            "\u001b[1m50/50\u001b[0m \u001b[32m━━━━━━━━━━━━━━━━━━━━\u001b[0m\u001b[37m\u001b[0m \u001b[1m0s\u001b[0m 4ms/step - loss: 2.4853e-07\n",
            "Epoch 177/200\n",
            "\u001b[1m50/50\u001b[0m \u001b[32m━━━━━━━━━━━━━━━━━━━━\u001b[0m\u001b[37m\u001b[0m \u001b[1m0s\u001b[0m 4ms/step - loss: 8.8474e-07\n",
            "Epoch 178/200\n",
            "\u001b[1m50/50\u001b[0m \u001b[32m━━━━━━━━━━━━━━━━━━━━\u001b[0m\u001b[37m\u001b[0m \u001b[1m0s\u001b[0m 4ms/step - loss: 4.7624e-06\n",
            "Epoch 179/200\n",
            "\u001b[1m50/50\u001b[0m \u001b[32m━━━━━━━━━━━━━━━━━━━━\u001b[0m\u001b[37m\u001b[0m \u001b[1m0s\u001b[0m 4ms/step - loss: 8.2981e-07\n",
            "Epoch 180/200\n",
            "\u001b[1m50/50\u001b[0m \u001b[32m━━━━━━━━━━━━━━━━━━━━\u001b[0m\u001b[37m\u001b[0m \u001b[1m0s\u001b[0m 4ms/step - loss: 9.3689e-07\n",
            "Epoch 181/200\n",
            "\u001b[1m50/50\u001b[0m \u001b[32m━━━━━━━━━━━━━━━━━━━━\u001b[0m\u001b[37m\u001b[0m \u001b[1m0s\u001b[0m 4ms/step - loss: 5.2968e-07\n",
            "Epoch 182/200\n",
            "\u001b[1m50/50\u001b[0m \u001b[32m━━━━━━━━━━━━━━━━━━━━\u001b[0m\u001b[37m\u001b[0m \u001b[1m0s\u001b[0m 3ms/step - loss: 2.0929e-06\n",
            "Epoch 183/200\n",
            "\u001b[1m50/50\u001b[0m \u001b[32m━━━━━━━━━━━━━━━━━━━━\u001b[0m\u001b[37m\u001b[0m \u001b[1m0s\u001b[0m 4ms/step - loss: 9.1407e-06\n",
            "Epoch 184/200\n",
            "\u001b[1m50/50\u001b[0m \u001b[32m━━━━━━━━━━━━━━━━━━━━\u001b[0m\u001b[37m\u001b[0m \u001b[1m0s\u001b[0m 4ms/step - loss: 1.9298e-06\n",
            "Epoch 185/200\n",
            "\u001b[1m50/50\u001b[0m \u001b[32m━━━━━━━━━━━━━━━━━━━━\u001b[0m\u001b[37m\u001b[0m \u001b[1m0s\u001b[0m 4ms/step - loss: 1.1206e-06\n",
            "Epoch 186/200\n",
            "\u001b[1m50/50\u001b[0m \u001b[32m━━━━━━━━━━━━━━━━━━━━\u001b[0m\u001b[37m\u001b[0m \u001b[1m0s\u001b[0m 3ms/step - loss: 4.4142e-07\n",
            "Epoch 187/200\n",
            "\u001b[1m50/50\u001b[0m \u001b[32m━━━━━━━━━━━━━━━━━━━━\u001b[0m\u001b[37m\u001b[0m \u001b[1m0s\u001b[0m 3ms/step - loss: 3.8289e-07\n",
            "Epoch 188/200\n",
            "\u001b[1m50/50\u001b[0m \u001b[32m━━━━━━━━━━━━━━━━━━━━\u001b[0m\u001b[37m\u001b[0m \u001b[1m0s\u001b[0m 4ms/step - loss: 8.0690e-07\n",
            "Epoch 189/200\n",
            "\u001b[1m50/50\u001b[0m \u001b[32m━━━━━━━━━━━━━━━━━━━━\u001b[0m\u001b[37m\u001b[0m \u001b[1m0s\u001b[0m 3ms/step - loss: 2.5905e-05\n",
            "Epoch 190/200\n",
            "\u001b[1m50/50\u001b[0m \u001b[32m━━━━━━━━━━━━━━━━━━━━\u001b[0m\u001b[37m\u001b[0m \u001b[1m0s\u001b[0m 3ms/step - loss: 8.9244e-05\n",
            "Epoch 191/200\n",
            "\u001b[1m50/50\u001b[0m \u001b[32m━━━━━━━━━━━━━━━━━━━━\u001b[0m\u001b[37m\u001b[0m \u001b[1m0s\u001b[0m 5ms/step - loss: 2.8358e-06\n",
            "Epoch 192/200\n",
            "\u001b[1m50/50\u001b[0m \u001b[32m━━━━━━━━━━━━━━━━━━━━\u001b[0m\u001b[37m\u001b[0m \u001b[1m1s\u001b[0m 15ms/step - loss: 8.7026e-07\n",
            "Epoch 193/200\n",
            "\u001b[1m50/50\u001b[0m \u001b[32m━━━━━━━━━━━━━━━━━━━━\u001b[0m\u001b[37m\u001b[0m \u001b[1m1s\u001b[0m 6ms/step - loss: 4.5567e-07\n",
            "Epoch 194/200\n",
            "\u001b[1m50/50\u001b[0m \u001b[32m━━━━━━━━━━━━━━━━━━━━\u001b[0m\u001b[37m\u001b[0m \u001b[1m1s\u001b[0m 12ms/step - loss: 9.8487e-07\n",
            "Epoch 195/200\n",
            "\u001b[1m50/50\u001b[0m \u001b[32m━━━━━━━━━━━━━━━━━━━━\u001b[0m\u001b[37m\u001b[0m \u001b[1m0s\u001b[0m 6ms/step - loss: 4.9783e-07\n",
            "Epoch 196/200\n",
            "\u001b[1m50/50\u001b[0m \u001b[32m━━━━━━━━━━━━━━━━━━━━\u001b[0m\u001b[37m\u001b[0m \u001b[1m1s\u001b[0m 6ms/step - loss: 4.3859e-07\n",
            "Epoch 197/200\n",
            "\u001b[1m50/50\u001b[0m \u001b[32m━━━━━━━━━━━━━━━━━━━━\u001b[0m\u001b[37m\u001b[0m \u001b[1m0s\u001b[0m 4ms/step - loss: 4.6125e-07\n",
            "Epoch 198/200\n",
            "\u001b[1m50/50\u001b[0m \u001b[32m━━━━━━━━━━━━━━━━━━━━\u001b[0m\u001b[37m\u001b[0m \u001b[1m0s\u001b[0m 4ms/step - loss: 2.8721e-07\n",
            "Epoch 199/200\n",
            "\u001b[1m50/50\u001b[0m \u001b[32m━━━━━━━━━━━━━━━━━━━━\u001b[0m\u001b[37m\u001b[0m \u001b[1m0s\u001b[0m 4ms/step - loss: 9.6324e-07\n",
            "Epoch 200/200\n",
            "\u001b[1m50/50\u001b[0m \u001b[32m━━━━━━━━━━━━━━━━━━━━\u001b[0m\u001b[37m\u001b[0m \u001b[1m0s\u001b[0m 4ms/step - loss: 3.6267e-07\n"
          ]
        },
        {
          "output_type": "execute_result",
          "data": {
            "text/plain": [
              "<keras.src.callbacks.history.History at 0x7f0afd2ee980>"
            ]
          },
          "metadata": {},
          "execution_count": 14
        }
      ]
    },
    {
      "cell_type": "code",
      "source": [
        "# 5. Predict on the Test Data\n",
        "y_pred = model.predict(X_test)"
      ],
      "metadata": {
        "colab": {
          "base_uri": "https://localhost:8080/"
        },
        "id": "zsbHl3pX8NF4",
        "outputId": "16857bb5-26a1-4812-d8ce-f03a567fa468"
      },
      "execution_count": null,
      "outputs": [
        {
          "output_type": "stream",
          "name": "stdout",
          "text": [
            "\u001b[1m7/7\u001b[0m \u001b[32m━━━━━━━━━━━━━━━━━━━━\u001b[0m\u001b[37m\u001b[0m \u001b[1m0s\u001b[0m 36ms/step\n"
          ]
        }
      ]
    },
    {
      "cell_type": "markdown",
      "source": [
        "These steps reverse the normalization applied earlier to the predictions and actual values. Normalization scales the data to a range, typically [0, 1], which helps with model training but makes the results difficult to interpret directly.\n",
        "By applying the inverse transformation, you convert the scaled predictions (y_pred) and test values (y_test) back to their original scale, allowing you to evaluate and visualize the model's performance in the context of the original data values."
      ],
      "metadata": {
        "id": "H1q7El5QCCuK"
      }
    },
    {
      "cell_type": "code",
      "source": [
        "# Inverse transform to get the original scale (if normalization was applied)\n",
        "y_pred = scaler.inverse_transform(y_pred.reshape(-1, 1)).reshape(-1)\n",
        "y_test = scaler.inverse_transform(y_test.reshape(-1, 1)).reshape(-1)"
      ],
      "metadata": {
        "id": "C1crOpDh8QfQ"
      },
      "execution_count": null,
      "outputs": []
    },
    {
      "cell_type": "markdown",
      "source": [
        "This plot visually compares the actual sine wave values (y_test) with the values predicted by the RNN model (y_pred).\n",
        "\n",
        "By plotting both sets of values on the same graph, you can easily see how well the model's predictions align with the actual data.\n",
        "\n",
        "This visualization helps in assessing the performance of the RNN model and understanding how accurately it captures the underlying pattern in the time series data.\n",
        "\n",
        "***Analyze the resulting plot. If the predicted values deviate significantly from the actual values, experiment with different model configurations and training parameters to improve accuracy.***\n",
        "  \n",
        "# **Describe your observations. You can add a text cell and type your observations.**"
      ],
      "metadata": {
        "id": "EhuICzVgCKyP"
      }
    },
    {
      "cell_type": "code",
      "source": [
        "\n",
        "# 6. Plot the Results\n",
        "plt.figure(figsize=(12, 6))\n",
        "plt.plot(y_test, label='Actual')\n",
        "plt.plot(y_pred, label='Predicted')\n",
        "plt.xlabel('Time Steps')\n",
        "plt.ylabel('Value')\n",
        "plt.title('RNN Prediction on Sine Wave')\n",
        "plt.legend()\n",
        "plt.show()"
      ],
      "metadata": {
        "colab": {
          "base_uri": "https://localhost:8080/",
          "height": 564
        },
        "id": "1F_aCa958TdC",
        "outputId": "d78f8049-7915-4e46-d215-db0329b0007b"
      },
      "execution_count": null,
      "outputs": [
        {
          "output_type": "display_data",
          "data": {
            "text/plain": [
              "<Figure size 1200x600 with 1 Axes>"
            ],
            "image/png": "[encoded data removed]"
          },
          "metadata": {}
        }
      ]
    },
    {
      "cell_type": "markdown",
      "source": [
        "# **Observations:**\n",
        "\n",
        "\n",
        "\n",
        "*   **Units in SimpleRNN:** After set to 100. Increasing the number of hidden units in the RNN layer was intended to give the model more capacity to learn the sequence. However, the observed deviation indicates that while the model has a higher capacity, it might also be overfitting to certain patterns within the training data, resulting in poor generalization to the entire sequence.\n",
        "*   **Epochs:** After set to 200. Training the model for a higher number of epochs allows it to learn the data more thoroughly, but in this case, it may have led to overfitting, where the model becomes too attuned to the training data and fails to predict new data accurately.\n",
        "\n",
        "\n",
        "*   **Batch Size:** Set to 16. A smaller batch size leads to more frequent updates of the model weights, which can improve training accuracy. However, it also makes the training process more sensitive to noise, which could contribute to the observed deviation.\n",
        "\n",
        "  ### **Potential Causes of Deviation:**\n",
        "\n",
        "*   **Overfitting:** The model may have overfitted the training data due to the high number of units and epochs, leading to poor performance on unseen data points.\n",
        "*   **Insufficient Complexity:** Although the model has a high number of units, it might still not be complex enough to fully capture the sequence's nuances, especially if the data has underlying patterns that are difficult to model with a simple RNN.\n",
        "\n",
        "\n",
        "*   **Learning Rate:** The learning rate, if not tuned, could cause the model to either converge too slowly (underfitting) or too quickly, missing the optimal point (overfitting).\n",
        "\n",
        "\n",
        "\n",
        "\n",
        "\n",
        "\n",
        "\n"
      ],
      "metadata": {
        "id": "WnKEfPAmYite"
      }
    }
  ]
}